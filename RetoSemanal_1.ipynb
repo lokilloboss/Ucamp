{
  "nbformat": 4,
  "nbformat_minor": 0,
  "metadata": {
    "colab": {
      "name": "RetoSemanal_1.ipynb",
      "provenance": [],
      "collapsed_sections": [],
      "authorship_tag": "ABX9TyOiidFoR2c0bBNVSPHA+b1H",
      "include_colab_link": true
    },
    "kernelspec": {
      "name": "python3",
      "display_name": "Python 3"
    },
    "language_info": {
      "name": "python"
    }
  },
  "cells": [
    {
      "cell_type": "markdown",
      "metadata": {
        "id": "view-in-github",
        "colab_type": "text"
      },
      "source": [
        "<a href=\"https://colab.research.google.com/github/lokilloboss/Ucamp/blob/main/RetoSemanal_1.ipynb\" target=\"_parent\"><img src=\"https://colab.research.google.com/assets/colab-badge.svg\" alt=\"Open In Colab\"/></a>"
      ]
    },
    {
      "cell_type": "markdown",
      "source": [
        "Reto - Semana 1 ⛳ Alberto Aguilar Maya\n",
        "\n",
        "\n",
        "1.   Realizar una lista llamada estudiantes con los siguientes nombre\n",
        "\n",
        "\n",
        "*   Amanda\n",
        "*   Berenice\n",
        "*   Celia\n",
        "*   Danae\n",
        "*   Elena\n",
        "*   Fabiola\n",
        "*   Giselle\n",
        "\n",
        "\n",
        "\n",
        "\n",
        "\n"
      ],
      "metadata": {
        "id": "aCTAWTpSeSMF"
      }
    },
    {
      "cell_type": "code",
      "execution_count": 1,
      "metadata": {
        "colab": {
          "base_uri": "https://localhost:8080/"
        },
        "id": "u5MmKE8xePdV",
        "outputId": "7e1adf84-c366-4d84-ce6d-71e9a0711eb6"
      },
      "outputs": [
        {
          "output_type": "stream",
          "name": "stdout",
          "text": [
            "['Amanda', 'Berenice', 'Celia', 'Danae', 'Elena', 'Fabiola', 'Giselle']\n"
          ]
        }
      ],
      "source": [
        "list_estudiantes = ['Amanda', 'Berenice', 'Celia', 'Danae', 'Elena', 'Fabiola', 'Giselle']\n",
        "print(list_estudiantes)"
      ]
    },
    {
      "cell_type": "markdown",
      "source": [
        "2.   Buble **for** en la que a cada nombre deberá comprobar si la última letra de cada nombre termina en a, si esa condición se cumple deberá decir:\n",
        "\n",
        "\n",
        "\n",
        "*   Amanda termina con la letra A, y si no, deberá decir: Berenice no termina con la letra A. Esto es para cada nombre en la lista"
      ],
      "metadata": {
        "id": "wXVAmwqCeQl0"
      }
    },
    {
      "cell_type": "code",
      "source": [
        "for estudiante in list_estudiantes :\n",
        "  if estudiante[len(estudiante) -1] == 'a' :\n",
        "    print(f\"{estudiante} termina con la letra A\")\n",
        "  else : \n",
        "      print(f\"{estudiante} NO termina con la letra A\")"
      ],
      "metadata": {
        "colab": {
          "base_uri": "https://localhost:8080/"
        },
        "id": "AQhH88aehSVy",
        "outputId": "7b9d472a-6df3-45c8-dd1c-e05188084e6a"
      },
      "execution_count": 3,
      "outputs": [
        {
          "output_type": "stream",
          "name": "stdout",
          "text": [
            "Amanda termina con la letra A\n",
            "Berenice NO termina con la letra A\n",
            "Celia termina con la letra A\n",
            "Danae NO termina con la letra A\n",
            "Elena termina con la letra A\n",
            "Fabiola termina con la letra A\n",
            "Giselle NO termina con la letra A\n"
          ]
        }
      ]
    }
  ]
}